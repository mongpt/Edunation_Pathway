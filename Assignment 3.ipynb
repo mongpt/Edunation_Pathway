{
 "cells": [
  {
   "cell_type": "markdown",
   "id": "450618b9",
   "metadata": {},
   "source": [
    "# ASSIGNMENT 3\n",
    "## Date: 20-03-2022\n",
    "### PHAN TAN MONG"
   ]
  },
  {
   "cell_type": "markdown",
   "id": "f60014dc",
   "metadata": {},
   "source": [
    "**Exercise 1:**<br>\n",
    "*Write a lambda expression to get the product of two numbers.<br>\n",
    "Run test for expression(5,6)<br>\n",
    "Output: 30*<br>"
   ]
  },
  {
   "cell_type": "code",
   "execution_count": 1,
   "id": "b444b7e1",
   "metadata": {},
   "outputs": [
    {
     "name": "stdout",
     "output_type": "stream",
     "text": [
      "Product of 2 numbers is: 30\n"
     ]
    }
   ],
   "source": [
    "x = lambda num1, num2: num1*num2\n",
    "print(\"Product of 2 numbers is:\",x(5,6))"
   ]
  },
  {
   "cell_type": "markdown",
   "id": "8f9ce987",
   "metadata": {},
   "source": [
    "**Exercise 2:**<br>\n",
    "*Write a function to get the area of a circle from the radius. <br>\n",
    "Hint: remember to import the right modul for being able to calculte the area of the circle.<br>\n",
    "Run test for function(10)<br>\n",
    "Output: 314.1592653589793*<br>"
   ]
  },
  {
   "cell_type": "code",
   "execution_count": 2,
   "id": "4350308a",
   "metadata": {},
   "outputs": [
    {
     "name": "stdout",
     "output_type": "stream",
     "text": [
      "Area of circle is: 314.1592653589793\n"
     ]
    }
   ],
   "source": [
    "import math\n",
    "PiNum = math.pi\n",
    "\n",
    "def area(r):\n",
    "    return PiNum*r*r\n",
    "\n",
    "print(\"Area of circle is:\",area(10))"
   ]
  },
  {
   "cell_type": "markdown",
   "id": "1ff7eac1",
   "metadata": {},
   "source": [
    "**Exercise 3:**<br>\n",
    "*Build a simple calculator which can: add, subtract, multiply, divide. <br>\n",
    "Hint: solve by writing a function that takes as argument two numbers and the operation and <br>\n",
    "returns the desired output.<br>\n",
    "Run test for function(2,5,’d’)<br>\n",
    "Output: 0.4*<br>\n"
   ]
  },
  {
   "cell_type": "code",
   "execution_count": 3,
   "id": "a6da70f5",
   "metadata": {},
   "outputs": [
    {
     "name": "stdout",
     "output_type": "stream",
     "text": [
      "Result:  0.4\n"
     ]
    }
   ],
   "source": [
    "def SimpleCal(num1, num2, oper):\n",
    "    if oper == \"a\":\n",
    "        return num1 + num2\n",
    "    elif oper == \"s\":\n",
    "        return num1 - num2\n",
    "    elif oper == \"m\":\n",
    "        return num1 * num2\n",
    "    elif oper == \"d\":\n",
    "        return num1 / num2\n",
    "\n",
    "print(\"Result: \",SimpleCal(2,5,\"d\"))"
   ]
  },
  {
   "cell_type": "markdown",
   "id": "7bec9561",
   "metadata": {},
   "source": [
    "**Exercise 4:<br>**\n",
    "*Define a class named Rectangle which can be constructed by a length and width.<br>\n",
    "The Rectangle class has a method which can compute the area.<br>\n",
    "Run test for r = Rectangle(5,10)<br>\n",
    "r.area()<br>\n",
    "Output: 50*<br>"
   ]
  },
  {
   "cell_type": "code",
   "execution_count": 4,
   "id": "38aa355b",
   "metadata": {},
   "outputs": [
    {
     "name": "stdout",
     "output_type": "stream",
     "text": [
      "50\n"
     ]
    }
   ],
   "source": [
    "class Rectangle:\n",
    "    def __init__(self, l, w):\n",
    "        self.length = l\n",
    "        self.width = w\n",
    "    def area(self):\n",
    "        return self.length * self.width\n",
    "    \n",
    "r = Rectangle(5,10)\n",
    "print(r.area())"
   ]
  },
  {
   "cell_type": "markdown",
   "id": "1d614f79",
   "metadata": {},
   "source": [
    "**Exercise 5:**<br>\n",
    "*Define a class named Shape and its subclass Square.<br>\n",
    "Shape objects can be consrtucted by name and length has an area function wich return 0<br>\n",
    "Square subclass has an init function which take a length and name as argument and has an<br> \n",
    "area method and a describe method what prints the name of the Shape.<br>\n",
    " Print the area from Square class.<br>\n",
    "Run test for:   s = Square('square',5)<br>\n",
    "                print(s.area())<br>\n",
    "                print(s.describe())<br>\n",
    " Output: The area is: <br>\n",
    "        25<br>\n",
    " This is a: square*<br>"
   ]
  },
  {
   "cell_type": "code",
   "execution_count": 5,
   "id": "f1d93a21",
   "metadata": {},
   "outputs": [
    {
     "name": "stdout",
     "output_type": "stream",
     "text": [
      "This area is: 25\n",
      "This is a: square\n"
     ]
    }
   ],
   "source": [
    "class Shape:\n",
    "    def __init__(self, n, l):\n",
    "        self.name = n\n",
    "        self.length = l\n",
    "    def area(self):\n",
    "        return 0\n",
    "    \n",
    "class Square(Shape):\n",
    "    def area(self):\n",
    "        print(\"This area is:\",self.length ** 2)\n",
    "    def describe(self):\n",
    "        print(\"This is a:\",self.name)\n",
    "        \n",
    "s = Square(\"square\",5)\n",
    "s.area()\n",
    "s.describe()"
   ]
  }
 ],
 "metadata": {
  "kernelspec": {
   "display_name": "Python 3 (ipykernel)",
   "language": "python",
   "name": "python3"
  },
  "language_info": {
   "codemirror_mode": {
    "name": "ipython",
    "version": 3
   },
   "file_extension": ".py",
   "mimetype": "text/x-python",
   "name": "python",
   "nbconvert_exporter": "python",
   "pygments_lexer": "ipython3",
   "version": "3.9.7"
  }
 },
 "nbformat": 4,
 "nbformat_minor": 5
}
